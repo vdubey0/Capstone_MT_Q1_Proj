{
 "cells": [
  {
   "cell_type": "code",
   "execution_count": 1,
   "id": "190616a9-c4da-448d-95be-5c58f560a7bd",
   "metadata": {},
   "outputs": [],
   "source": [
    "import numpy as np\n",
    "import pandas as pd\n",
    "import matplotlib.pyplot as plt"
   ]
  },
  {
   "cell_type": "code",
   "execution_count": 7,
   "id": "544e3cf2-8123-46f1-8c2f-708f8c3f16a2",
   "metadata": {},
   "outputs": [
    {
     "data": {
      "text/html": [
       "<div>\n",
       "<style scoped>\n",
       "    .dataframe tbody tr th:only-of-type {\n",
       "        vertical-align: middle;\n",
       "    }\n",
       "\n",
       "    .dataframe tbody tr th {\n",
       "        vertical-align: top;\n",
       "    }\n",
       "\n",
       "    .dataframe thead th {\n",
       "        text-align: right;\n",
       "    }\n",
       "</style>\n",
       "<table border=\"1\" class=\"dataframe\">\n",
       "  <thead>\n",
       "    <tr style=\"text-align: right;\">\n",
       "      <th></th>\n",
       "      <th>Unnamed: 0</th>\n",
       "      <th>E116</th>\n",
       "      <th>E122</th>\n",
       "      <th>E123</th>\n",
       "    </tr>\n",
       "  </thead>\n",
       "  <tbody>\n",
       "    <tr>\n",
       "      <th>0</th>\n",
       "      <td>GCN</td>\n",
       "      <td>0.912025</td>\n",
       "      <td>0.906868</td>\n",
       "      <td>0.926330</td>\n",
       "    </tr>\n",
       "    <tr>\n",
       "      <th>1</th>\n",
       "      <td>MLP</td>\n",
       "      <td>0.908909</td>\n",
       "      <td>0.896096</td>\n",
       "      <td>0.918319</td>\n",
       "    </tr>\n",
       "    <tr>\n",
       "      <th>2</th>\n",
       "      <td>Weighted_Agg_GCN</td>\n",
       "      <td>0.911979</td>\n",
       "      <td>0.907122</td>\n",
       "      <td>0.926355</td>\n",
       "    </tr>\n",
       "    <tr>\n",
       "      <th>3</th>\n",
       "      <td>GAT</td>\n",
       "      <td>0.883976</td>\n",
       "      <td>0.885955</td>\n",
       "      <td>0.879030</td>\n",
       "    </tr>\n",
       "  </tbody>\n",
       "</table>\n",
       "</div>"
      ],
      "text/plain": [
       "         Unnamed: 0      E116      E122      E123\n",
       "0               GCN  0.912025  0.906868  0.926330\n",
       "1               MLP  0.908909  0.896096  0.918319\n",
       "2  Weighted_Agg_GCN  0.911979  0.907122  0.926355\n",
       "3               GAT  0.883976  0.885955  0.879030"
      ]
     },
     "execution_count": 7,
     "metadata": {},
     "output_type": "execute_result"
    }
   ],
   "source": [
    "classification_res = pd.read_csv('results.csv')\n",
    "classification_res"
   ]
  },
  {
   "cell_type": "code",
   "execution_count": null,
   "id": "03842b6e-acb2-4917-99b4-bf78297d3004",
   "metadata": {},
   "outputs": [],
   "source": [
    "cell_line_alias = {'E116': 'GM1287', 'E123': 'K562', 'E122': 'HUVEC'}\n",
    "\n",
    "fig, ax = plt.subplots(figsize=(20, 5))\n",
    "bar_width = 0.2\n",
    "index = np.arange(len(classification_res.columns))\n",
    "\n",
    "for i, model in enumerate(classification_res.index):\n",
    "    ax.bar(index + i * bar_width, classification_res.loc[model], bar_width, label=model)\n",
    "\n",
    "ax.set_ylabel('AUROC')\n",
    "ax.set_ylim(0.8, 0.95)\n",
    "ax.set_xticks(index + bar_width * (len(classification_res.index) - 1) / 2)\n",
    "ax.set_xticklabels([])  # Remove the default x-tick labels\n",
    "\n",
    "for i in range(len(cell_line_alias)):\n",
    "    ax.text(index[i] + bar_width * (len(classification_res.index) - 1) / 2, \n",
    "            0.96,\n",
    "            cell_line_alias[list(cell_line_alias.keys())[i]],\n",
    "            ha='center', va='bottom', fontsize=20)\n",
    "\n",
    "ax.legend(title='Model')\n",
    "plt.show()"
   ]
  }
 ],
 "metadata": {
  "kernelspec": {
   "display_name": "Python 3 (ipykernel)",
   "language": "python",
   "name": "python3"
  },
  "language_info": {
   "codemirror_mode": {
    "name": "ipython",
    "version": 3
   },
   "file_extension": ".py",
   "mimetype": "text/x-python",
   "name": "python",
   "nbconvert_exporter": "python",
   "pygments_lexer": "ipython3",
   "version": "3.11.9"
  }
 },
 "nbformat": 4,
 "nbformat_minor": 5
}
