{
 "cells": [
  {
   "cell_type": "code",
   "execution_count": 1,
   "id": "53903081-96b5-48da-82a2-dd06b139dd63",
   "metadata": {},
   "outputs": [],
   "source": [
    "import os\n",
    "from scipy.sparse import load_npz\n",
    "import pandas as pd\n",
    "import numpy as np\n",
    "import torch"
   ]
  },
  {
   "cell_type": "code",
   "execution_count": 2,
   "id": "458c4c11-0e7f-46fe-83c4-6a53a47bde1b",
   "metadata": {},
   "outputs": [],
   "source": [
    "base_path = os.getcwd()\n",
    "cell_lines = ['E116', 'E122', 'E123']\n",
    "regression_flag = 0\n",
    "chip_res = 10000\n",
    "hic_res = 10000\n",
    "num_hm = 6\n",
    "num_feat = int((hic_res/chip_res)*num_hm)\n",
    "\n",
    "torch.manual_seed(0)\n",
    "\n",
    "for cell_line in cell_lines:\n",
    "    save_dir = os.path.join(base_path, 'data', cell_line, 'saved_runs')\n",
    "    np_nodes_lab_genes_file = os.path.join(base_path, 'data',  cell_line, \\\n",
    "        'np_nodes_lab_genes_reg' + str(regression_flag) + '.npy')\n",
    "\n",
    "    geneNodes_labs = np.load(np_nodes_lab_genes_file)\n",
    "    \n",
    "    geneNodes = geneNodes_labs[:, -2].astype(int)\n",
    "    \n",
    "    targetNode_mask = torch.tensor(geneNodes).long()\n",
    "\n",
    "    pred_idx_shuff = torch.randperm(targetNode_mask.shape[0])\n",
    "    fin_train = np.floor(0.7*pred_idx_shuff.shape[0]).astype(int)\n",
    "    fin_valid = np.floor(0.85*pred_idx_shuff.shape[0]).astype(int)\n",
    "    train_idx = pred_idx_shuff[:fin_train]\n",
    "    valid_idx = pred_idx_shuff[fin_train:fin_valid]\n",
    "    test_idx = pred_idx_shuff[fin_valid:]\n",
    "\n",
    "    torch.save(train_idx, f'train-test-split/{cell_line}/train_idx.pt')\n",
    "    torch.save(valid_idx, f'train-test-split/{cell_line}/valid_idx.pt')\n",
    "    torch.save(test_idx, f'train-test-split/{cell_line}/test_idx.pt')"
   ]
  },
  {
   "cell_type": "code",
   "execution_count": null,
   "id": "8e5e631a-b05f-49e7-88f4-d3a348ef894f",
   "metadata": {},
   "outputs": [],
   "source": []
  }
 ],
 "metadata": {
  "kernelspec": {
   "display_name": "Python 3 (ipykernel)",
   "language": "python",
   "name": "python3"
  },
  "language_info": {
   "codemirror_mode": {
    "name": "ipython",
    "version": 3
   },
   "file_extension": ".py",
   "mimetype": "text/x-python",
   "name": "python",
   "nbconvert_exporter": "python",
   "pygments_lexer": "ipython3",
   "version": "3.11.9"
  }
 },
 "nbformat": 4,
 "nbformat_minor": 5
}
