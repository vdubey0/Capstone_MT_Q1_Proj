{
 "cells": [
  {
   "cell_type": "code",
   "execution_count": 5,
   "id": "e0a53e9a-714c-4037-bed9-1ef73fc00d84",
   "metadata": {},
   "outputs": [],
   "source": [
    "import torch\n",
    "import torch.multiprocessing as mp\n",
    "from torch_geometric.datasets import Reddit \n",
    "from torch_geometric.loader import NeighborSampler\n",
    "from torch_geometric.nn import SAGEConv\n",
    "import torch.distributed as dist"
   ]
  },
  {
   "cell_type": "code",
   "execution_count": 6,
   "id": "97c82d55-2774-4517-9cb6-184f35377b52",
   "metadata": {},
   "outputs": [],
   "source": [
    "class SAGE(torch.nn.Module):\n",
    "    def __init__(self, in_channels, hidden_channels, out_channels):\n",
    "        super().__init__()\n",
    "        self.conv1 = SAGEConv(in_channels, hidden_channels)\n",
    "        self.conv2 = SAGEConv(hidden_channels, out_channels)\n",
    "\n",
    "    def forward(self, x, edge_index, batch_size):\n",
    "        x = self.conv1(x, edge_index)\n",
    "        x = x.relu()\n",
    "        x = self.conv2(x, edge_index)\n",
    "        return x"
   ]
  },
  {
   "cell_type": "code",
   "execution_count": 7,
   "id": "bf46ce7a-cd0b-4d89-b0a4-39f91c81bd2a",
   "metadata": {},
   "outputs": [],
   "source": [
    "def run(rank, world_size, dataset):\n",
    "    dist.init_process_group('nccl', rank=rank, world_size=world_size)\n",
    "\n",
    "    train_loader = NeighborSampler(\n",
    "        dataset[0].edge_index, \n",
    "        sizes=[15, 10, 5], \n",
    "        batch_size=64, \n",
    "        num_workers=4\n",
    "    )\n",
    "\n",
    "    model = SAGE(dataset[0].num_features, 256, dataset[0].num_classes).to(rank)\n",
    "    model = torch.nn.parallel.DistributedDataParallel(model, device_ids=[rank])\n",
    "\n",
    "    optimizer = torch.optim.Adam(model.parameters(), lr=0.01)\n",
    "    criterion = torch.nn.CrossEntropyLoss()\n",
    "\n",
    "    for epoch in range(10):\n",
    "        for data in train_loader:\n",
    "            data = data.to(rank)\n",
    "            optimizer.zero_grad()\n",
    "            out = model(data.x, data.edge_index, data.batch_size)\n",
    "            loss = criterion(out, data.y)\n",
    "            loss.backward()\n",
    "            optimizer.step()"
   ]
  },
  {
   "cell_type": "code",
   "execution_count": 8,
   "id": "21bfb3a8-5a5c-41ac-841f-944966dead97",
   "metadata": {},
   "outputs": [
    {
     "name": "stderr",
     "output_type": "stream",
     "text": [
      "Downloading https://data.dgl.ai/dataset/reddit.zip\n",
      "Extracting data/Reddit/raw/reddit.zip\n",
      "Processing...\n",
      "Done!\n"
     ]
    }
   ],
   "source": [
    "dataset = Reddit('./data/Reddit')\n",
    "world_size = torch.cuda.device_count()"
   ]
  },
  {
   "cell_type": "code",
   "execution_count": 17,
   "id": "9b21c428-a4d1-442a-a9c0-814a59fd7e54",
   "metadata": {},
   "outputs": [
    {
     "data": {
      "text/plain": [
       "41"
      ]
     },
     "execution_count": 17,
     "metadata": {},
     "output_type": "execute_result"
    }
   ],
   "source": [
    "torch.unique(dataset[0].y).numel()"
   ]
  },
  {
   "cell_type": "code",
   "execution_count": 18,
   "id": "f790e201-9e21-4f88-9ecc-fa71057d0e4f",
   "metadata": {},
   "outputs": [
    {
     "data": {
      "text/plain": [
       "Data(x=[232965, 602], edge_index=[2, 114615892], y=[232965], train_mask=[232965], val_mask=[232965], test_mask=[232965])"
      ]
     },
     "execution_count": 18,
     "metadata": {},
     "output_type": "execute_result"
    }
   ],
   "source": [
    "dataset[0]"
   ]
  },
  {
   "cell_type": "code",
   "execution_count": null,
   "id": "5cee0229-d058-4363-b60a-962348e9fdb9",
   "metadata": {},
   "outputs": [],
   "source": []
  }
 ],
 "metadata": {
  "kernelspec": {
   "display_name": "Python 3 (ipykernel)",
   "language": "python",
   "name": "python3"
  },
  "language_info": {
   "codemirror_mode": {
    "name": "ipython",
    "version": 3
   },
   "file_extension": ".py",
   "mimetype": "text/x-python",
   "name": "python",
   "nbconvert_exporter": "python",
   "pygments_lexer": "ipython3",
   "version": "3.11.9"
  }
 },
 "nbformat": 4,
 "nbformat_minor": 5
}
