{
 "cells": [
  {
   "cell_type": "code",
   "execution_count": 1,
   "id": "cbed74eb-4abf-42e6-b4ad-9493d2a4a4e3",
   "metadata": {},
   "outputs": [],
   "source": [
    "import os\n",
    "\n",
    "import numpy as np\n",
    "from scipy.sparse import load_npz\n",
    "from scipy.stats import pearsonr\n",
    "from sklearn.metrics import roc_auc_score, precision_recall_curve, auc\n",
    "import pandas as pd\n",
    "\n",
    "import torch\n",
    "import torch_geometric\n",
    "import torch.nn.functional as F\n",
    "import torch.nn as nn\n",
    "import torch.optim as optim\n",
    "from torch_geometric.loader import DataLoader\n",
    "from torch_geometric.nn.conv import GATConv\n",
    "from model_classes_ import GCN_classification, GCN_regression\n",
    "\n",
    "import matplotlib.pyplot as plt\n",
    "\n",
    "torch.manual_seed(0)\n",
    "\n",
    "%load_ext autoreload\n",
    "%autoreload 2"
   ]
  },
  {
   "cell_type": "code",
   "execution_count": 2,
   "id": "55ae75f1-0c9d-4268-9d45-822dfa5cf2aa",
   "metadata": {},
   "outputs": [
    {
     "data": {
      "text/plain": [
       "device(type='cuda')"
      ]
     },
     "execution_count": 2,
     "metadata": {},
     "output_type": "execute_result"
    }
   ],
   "source": [
    "device = torch.device(\"cuda\" if torch.cuda.is_available() else \"cpu\")\n",
    "device"
   ]
  },
  {
   "cell_type": "code",
   "execution_count": 3,
   "id": "ec2766eb-f174-4f44-a5a6-0304b0642231",
   "metadata": {},
   "outputs": [],
   "source": [
    "cell_line = 'E116'\n",
    "regression_flag = 0\n",
    "chip_res = 10000\n",
    "hic_res = 10000\n",
    "num_hm = 6\n",
    "num_feat = int((hic_res/chip_res)*num_hm)\n",
    "num_classes = 2 if regression_flag == 0 else 1"
   ]
  },
  {
   "cell_type": "code",
   "execution_count": 4,
   "id": "f29653f2-04eb-44d8-9ad6-221f31d3e0a1",
   "metadata": {},
   "outputs": [],
   "source": [
    "#define data paths\n",
    "src_dir = os.getcwd()\n",
    "#src_dir = os.path.dirname(base_path)\n",
    "save_dir = os.path.join(src_dir, 'data', cell_line, 'saved_runs')\n",
    "hic_sparse_mat_file = os.path.join(src_dir, 'data', cell_line, 'hic_sparse.npz')\n",
    "np_nodes_lab_genes_file = os.path.join(src_dir, 'data',  cell_line, \\\n",
    "    'np_nodes_lab_genes_reg' + str(regression_flag) + '.npy')\n",
    "np_hmods_norm_all_file = os.path.join(src_dir, 'data', cell_line, \\\n",
    "    'np_hmods_norm_chip_' + str(chip_res) + 'bp.npy')\n",
    "df_genes_file = os.path.join(src_dir, 'data', cell_line, 'df_genes_reg' + str(regression_flag) + '.pkl')"
   ]
  },
  {
   "cell_type": "code",
   "execution_count": 5,
   "id": "a09c80b6-2509-4cd1-8cbc-ee6afddb7bf7",
   "metadata": {},
   "outputs": [
    {
     "data": {
      "text/html": [
       "<div>\n",
       "<style scoped>\n",
       "    .dataframe tbody tr th:only-of-type {\n",
       "        vertical-align: middle;\n",
       "    }\n",
       "\n",
       "    .dataframe tbody tr th {\n",
       "        vertical-align: top;\n",
       "    }\n",
       "\n",
       "    .dataframe thead th {\n",
       "        text-align: right;\n",
       "    }\n",
       "</style>\n",
       "<table border=\"1\" class=\"dataframe\">\n",
       "  <thead>\n",
       "    <tr style=\"text-align: right;\">\n",
       "      <th></th>\n",
       "      <th>gene_catalog_name</th>\n",
       "      <th>abbrev</th>\n",
       "      <th>hic_node_id</th>\n",
       "      <th>expression_lvl</th>\n",
       "      <th>connected</th>\n",
       "    </tr>\n",
       "  </thead>\n",
       "  <tbody>\n",
       "    <tr>\n",
       "      <th>0</th>\n",
       "      <td>ENSG00000237613</td>\n",
       "      <td>FAM138A</td>\n",
       "      <td>3</td>\n",
       "      <td>0</td>\n",
       "      <td>1.0</td>\n",
       "    </tr>\n",
       "    <tr>\n",
       "      <th>1</th>\n",
       "      <td>ENSG00000186092</td>\n",
       "      <td>OR4F5</td>\n",
       "      <td>6</td>\n",
       "      <td>0</td>\n",
       "      <td>1.0</td>\n",
       "    </tr>\n",
       "    <tr>\n",
       "      <th>2</th>\n",
       "      <td>ENSG00000235249</td>\n",
       "      <td>OR4F29</td>\n",
       "      <td>36</td>\n",
       "      <td>0</td>\n",
       "      <td>1.0</td>\n",
       "    </tr>\n",
       "    <tr>\n",
       "      <th>3</th>\n",
       "      <td>ENSG00000185097</td>\n",
       "      <td>OR4F16</td>\n",
       "      <td>62</td>\n",
       "      <td>0</td>\n",
       "      <td>1.0</td>\n",
       "    </tr>\n",
       "    <tr>\n",
       "      <th>4</th>\n",
       "      <td>ENSG00000197049</td>\n",
       "      <td>NaN</td>\n",
       "      <td>72</td>\n",
       "      <td>1</td>\n",
       "      <td>1.0</td>\n",
       "    </tr>\n",
       "    <tr>\n",
       "      <th>...</th>\n",
       "      <td>...</td>\n",
       "      <td>...</td>\n",
       "      <td>...</td>\n",
       "      <td>...</td>\n",
       "      <td>...</td>\n",
       "    </tr>\n",
       "    <tr>\n",
       "      <th>384</th>\n",
       "      <td>ENSG00000100288</td>\n",
       "      <td>CHKB</td>\n",
       "      <td>279585</td>\n",
       "      <td>0</td>\n",
       "      <td>1.0</td>\n",
       "    </tr>\n",
       "    <tr>\n",
       "      <th>385</th>\n",
       "      <td>ENSG00000100299</td>\n",
       "      <td>ARSA</td>\n",
       "      <td>279588</td>\n",
       "      <td>1</td>\n",
       "      <td>1.0</td>\n",
       "    </tr>\n",
       "    <tr>\n",
       "      <th>386</th>\n",
       "      <td>ENSG00000251322</td>\n",
       "      <td>SHANK3</td>\n",
       "      <td>279593</td>\n",
       "      <td>0</td>\n",
       "      <td>1.0</td>\n",
       "    </tr>\n",
       "    <tr>\n",
       "      <th>387</th>\n",
       "      <td>ENSG00000100312</td>\n",
       "      <td>ACR</td>\n",
       "      <td>279599</td>\n",
       "      <td>0</td>\n",
       "      <td>1.0</td>\n",
       "    </tr>\n",
       "    <tr>\n",
       "      <th>388</th>\n",
       "      <td>ENSG00000079974</td>\n",
       "      <td>RABL2B</td>\n",
       "      <td>279604</td>\n",
       "      <td>1</td>\n",
       "      <td>1.0</td>\n",
       "    </tr>\n",
       "  </tbody>\n",
       "</table>\n",
       "<p>16699 rows × 5 columns</p>\n",
       "</div>"
      ],
      "text/plain": [
       "    gene_catalog_name   abbrev  hic_node_id  expression_lvl  connected\n",
       "0     ENSG00000237613  FAM138A            3               0        1.0\n",
       "1     ENSG00000186092    OR4F5            6               0        1.0\n",
       "2     ENSG00000235249   OR4F29           36               0        1.0\n",
       "3     ENSG00000185097   OR4F16           62               0        1.0\n",
       "4     ENSG00000197049      NaN           72               1        1.0\n",
       "..                ...      ...          ...             ...        ...\n",
       "384   ENSG00000100288     CHKB       279585               0        1.0\n",
       "385   ENSG00000100299     ARSA       279588               1        1.0\n",
       "386   ENSG00000251322   SHANK3       279593               0        1.0\n",
       "387   ENSG00000100312      ACR       279599               0        1.0\n",
       "388   ENSG00000079974   RABL2B       279604               1        1.0\n",
       "\n",
       "[16699 rows x 5 columns]"
      ]
     },
     "execution_count": 5,
     "metadata": {},
     "output_type": "execute_result"
    }
   ],
   "source": [
    "df_genes = pd.read_pickle(df_genes_file)\n",
    "df_genes"
   ]
  },
  {
   "cell_type": "code",
   "execution_count": 6,
   "id": "7feed0c9-9a87-4826-a9c9-539614f503c6",
   "metadata": {},
   "outputs": [
    {
     "name": "stdout",
     "output_type": "stream",
     "text": [
      "5.97% of all regions encode genes\n",
      "\n"
     ]
    },
    {
     "data": {
      "text/html": [
       "<div>\n",
       "<style scoped>\n",
       "    .dataframe tbody tr th:only-of-type {\n",
       "        vertical-align: middle;\n",
       "    }\n",
       "\n",
       "    .dataframe tbody tr th {\n",
       "        vertical-align: top;\n",
       "    }\n",
       "\n",
       "    .dataframe thead th {\n",
       "        text-align: right;\n",
       "    }\n",
       "</style>\n",
       "<table border=\"1\" class=\"dataframe\">\n",
       "  <thead>\n",
       "    <tr style=\"text-align: right;\">\n",
       "      <th></th>\n",
       "      <th>gene_expressed?</th>\n",
       "    </tr>\n",
       "    <tr>\n",
       "      <th>gene_id</th>\n",
       "      <th></th>\n",
       "    </tr>\n",
       "  </thead>\n",
       "  <tbody>\n",
       "    <tr>\n",
       "      <th>3.0</th>\n",
       "      <td>0.0</td>\n",
       "    </tr>\n",
       "    <tr>\n",
       "      <th>6.0</th>\n",
       "      <td>0.0</td>\n",
       "    </tr>\n",
       "    <tr>\n",
       "      <th>36.0</th>\n",
       "      <td>0.0</td>\n",
       "    </tr>\n",
       "    <tr>\n",
       "      <th>62.0</th>\n",
       "      <td>0.0</td>\n",
       "    </tr>\n",
       "    <tr>\n",
       "      <th>72.0</th>\n",
       "      <td>1.0</td>\n",
       "    </tr>\n",
       "  </tbody>\n",
       "</table>\n",
       "</div>"
      ],
      "text/plain": [
       "         gene_expressed?\n",
       "gene_id                 \n",
       "3.0                  0.0\n",
       "6.0                  0.0\n",
       "36.0                 0.0\n",
       "62.0                 0.0\n",
       "72.0                 1.0"
      ]
     },
     "execution_count": 6,
     "metadata": {},
     "output_type": "execute_result"
    }
   ],
   "source": [
    "mat = load_npz(hic_sparse_mat_file)\n",
    "allNodes_hms = np.load(np_hmods_norm_all_file) #contains 6 histone marks for all 279606 regions + id (Shape = [279606, 7])\n",
    "hms = allNodes_hms[:, 1:] #only includes features, not node ids (Shape = [279606, 6])\n",
    "X = torch.tensor(hms).float().reshape(-1, num_feat) #convert hms to tensor (Shape = [279606, 6])\n",
    "allNodes = allNodes_hms[:, 0].astype(int) #contains ids of all regions (Shape = [279606, 1])\n",
    "\n",
    "\n",
    "geneNodes_labs = np.load(np_nodes_lab_genes_file) #contains the expression level of each gene (Shape = [16699, 2])\n",
    "\n",
    "#Dataframe only contains regions that encode a gene\n",
    "print(f'{(geneNodes_labs.shape[0] * 100 / X.shape[0]):.2f}% of all regions encode genes\\n')\n",
    "pd.DataFrame(geneNodes_labs, columns=['gene_id', 'gene_expressed?']).set_index('gene_id').head()"
   ]
  },
  {
   "cell_type": "code",
   "execution_count": 7,
   "id": "9792f47a-3147-44bb-bcfd-70fbbbbe4759",
   "metadata": {},
   "outputs": [],
   "source": [
    "geneNodes = geneNodes_labs[:, -2].astype(int) #contains ids of regions that encode a gene (Shape = [16699, 1])\n",
    "\n",
    "allLabs = -1*np.ones(np.shape(allNodes))\n",
    "targetNode_mask = torch.tensor(geneNodes).long()\n",
    "geneLabs = geneNodes_labs[:, -1].astype(int)\n",
    "allLabs[geneNodes] = geneLabs #contains expression level for each region (-1 if region doesn't encode gene, 1 if gene is expressed, 0 if not)\n",
    "Y = torch.tensor(allLabs).long()"
   ]
  },
  {
   "cell_type": "code",
   "execution_count": 8,
   "id": "d79e51dd-cdef-4e80-bbce-49748bf1562a",
   "metadata": {},
   "outputs": [
    {
     "data": {
      "text/plain": [
       "(tensor([[     0,      1,      1,  ..., 279605, 279605, 279605],\n",
       "         [  8765,     24,     67,  ..., 279595, 279598, 279599]]),\n",
       " tensor([168.5447,  66.0712,  15.8497,  ...,  38.9206,  59.0113, 120.2268],\n",
       "        dtype=torch.float64))"
      ]
     },
     "execution_count": 8,
     "metadata": {},
     "output_type": "execute_result"
    }
   ],
   "source": [
    "extract = torch_geometric.utils.from_scipy_sparse_matrix(mat)\n",
    "\n",
    "#extract[0] (Shape = [2, 3906914]) contains nodes that have edges between them --> (extract[0][0][0], extract[0][1][0]) is an edge\n",
    "#extract[1] (Shape = [1, 3906914]) contain the HI-C edge weights\n",
    "extract"
   ]
  },
  {
   "cell_type": "code",
   "execution_count": 9,
   "id": "43184c2e-daa1-4bb2-ba19-96decf548fad",
   "metadata": {},
   "outputs": [
    {
     "data": {
      "text/plain": [
       "Data(x=[279606, 6], edge_index=[2, 3906914], edge_attr=[3906914], y=[279606])"
      ]
     },
     "execution_count": 9,
     "metadata": {},
     "output_type": "execute_result"
    }
   ],
   "source": [
    "data = torch_geometric.data.Data(edge_index = extract[0], edge_attr = extract[1], x = X, y = Y)\n",
    "G = data\n",
    "G"
   ]
  },
  {
   "cell_type": "code",
   "execution_count": 10,
   "id": "0e6df287-0db5-4f47-aea9-3fdd3e759844",
   "metadata": {},
   "outputs": [],
   "source": [
    "train_idx = torch.load(f'train-test-split/{cell_line}/train_idx.pt')\n",
    "valid_idx = torch.load(f'train-test-split/{cell_line}/valid_idx.pt')\n",
    "test_idx = torch.load(f'train-test-split/{cell_line}/test_idx.pt')"
   ]
  },
  {
   "cell_type": "code",
   "execution_count": 11,
   "id": "fb421e88-3537-4337-97db-c42d2fb0398f",
   "metadata": {},
   "outputs": [],
   "source": [
    "def to_cpu_npy(x):\n",
    "    return x.cpu().detach().numpy()\n",
    "    \n",
    "def train_model_classification(model, loss, graph, max_epoch, learning_rate, targetNode_mask, train_idx, valid_idx, optimizer):\n",
    "    model = model.to(device)\n",
    "    graph = graph.to(device)\n",
    "\n",
    "    optimizer = optimizer\n",
    "    \n",
    "    train_labels = to_cpu_npy(graph.y[targetNode_mask[train_idx]])\n",
    "    valid_labels = to_cpu_npy(graph.y[targetNode_mask[valid_idx]])\n",
    "\n",
    "    model.train()\n",
    "    train_status = True\n",
    "\n",
    "    train_losses = []\n",
    "    valid_losses = []\n",
    "    \n",
    "    print('\\n')\n",
    "    for e in list(range(max_epoch)):\n",
    "        \n",
    "        model.train()\n",
    "        train_status = True\n",
    "        \n",
    "        optimizer.zero_grad()\n",
    "        \n",
    "        all_scores = model(graph.x.float(), graph.edge_index, train_status)[targetNode_mask]\n",
    "        train_scores = all_scores[train_idx]\n",
    "        \n",
    "        train_loss = loss(train_scores, torch.LongTensor(train_labels).to(device))\n",
    "        train_losses.append(train_loss.item())\n",
    "\n",
    "        train_loss.backward()\n",
    "        optimizer.step()\n",
    "\n",
    "        model.eval()\n",
    "        valid_scores = all_scores[valid_idx]\n",
    "        valid_loss = loss(valid_scores, torch.LongTensor(valid_labels).to(device))\n",
    "        valid_losses.append(valid_loss.item())\n",
    "\n",
    "        if e%100 == 0:\n",
    "            print(f'Epoch {e}: Train Loss = {train_loss}, Valid Loss = {valid_loss}')\n",
    "\n",
    "    return train_losses, valid_losses\n",
    "\n",
    "def eval_model_classification(model, graph, targetNode_mask, train_idx, valid_idx, test_idx):\n",
    "    model = model.to(device)\n",
    "    graph = graph.to(device)\n",
    "    test_labels = to_cpu_npy(graph.y[targetNode_mask[test_idx]])\n",
    "    \n",
    "    model.eval()\n",
    "    train_status=False\n",
    "\n",
    "    forward_scores = model(graph.x.float(), graph.edge_index, train_status)[targetNode_mask]\n",
    "\n",
    "    test_scores = forward_scores[test_idx]\n",
    "    test_softmax = F.softmax(test_scores, dim=1)\n",
    "    test_preds = torch.argmax(test_softmax, dim=1)\n",
    "    \n",
    "    test_softmax = to_cpu_npy(test_softmax)\n",
    "    test_preds = to_cpu_npy(test_preds)\n",
    "    test_AUROC = roc_auc_score(test_labels, test_softmax[:,1], average=\"micro\")\n",
    "    test_acc = np.mean(test_preds == test_labels)\n",
    "\n",
    "    train_labels = to_cpu_npy(graph.y[targetNode_mask[train_idx]])\n",
    "    train_scores = forward_scores[train_idx]\n",
    "    train_softmax = F.softmax(train_scores, dim=1)\n",
    "    train_preds = torch.argmax(train_softmax, dim=1)\n",
    "    \n",
    "    train_softmax = to_cpu_npy(train_softmax)\n",
    "    train_preds = to_cpu_npy(train_preds)\n",
    "    train_AUROC = roc_auc_score(train_labels, train_softmax[:,1], average=\"micro\")\n",
    "    train_acc = np.mean(train_preds == train_labels)\n",
    "\n",
    "\n",
    "    return {'train_AUROC': train_AUROC, 'train_acc': train_acc, 'test_AUROC': test_AUROC, 'test_acc': test_acc}"
   ]
  },
  {
   "cell_type": "code",
   "execution_count": 12,
   "id": "1ff39833-0099-4828-b264-a0610957d25a",
   "metadata": {},
   "outputs": [],
   "source": [
    "graph_conv_embed_size = 256\n",
    "num_lin_layers = 2\n",
    "lin_hidden_size = 256\n",
    "num_graph_conv_layers = 2\n",
    "learning_rate = 1e-4\n",
    "max_epoch = 1000\n",
    "\n",
    "graph_conv_layer_sizes = [num_feat] + \\\n",
    "    [int(max(graph_conv_embed_size, lin_hidden_size)) \\\n",
    "          for i in np.arange(1, num_graph_conv_layers, 1)] + [lin_hidden_size]\n",
    "\n",
    "graph_lin_hidden_sizes = [graph_conv_layer_sizes[-1]] + \\\n",
    "    [int(max(lin_hidden_size, num_classes)) \\\n",
    "          for i in np.arange(1, num_lin_layers, 1)] + [num_classes]"
   ]
  },
  {
   "cell_type": "code",
   "execution_count": 13,
   "id": "e721ba68-1b35-4510-8fd7-ce92786edecb",
   "metadata": {},
   "outputs": [
    {
     "name": "stdout",
     "output_type": "stream",
     "text": [
      "Number of Parameters: 8014790\n",
      "\n"
     ]
    }
   ],
   "source": [
    "model = GCN_classification(num_feat, num_graph_conv_layers, graph_conv_layer_sizes, num_lin_layers, graph_lin_hidden_sizes, num_classes, num_nodes=G.x.shape[0], num_edges=G.edge_index.shape[1])\n",
    "optimizer = torch.optim.Adam(filter(lambda p : p.requires_grad, model.parameters()), lr = learning_rate)\n",
    "loss = nn.CrossEntropyLoss()\n",
    "\n",
    "model_parameters = filter(lambda p: p.requires_grad, model.parameters())\n",
    "print(f'Number of Parameters: {sum([np.prod(p.size()) for p in model_parameters])}\\n')"
   ]
  },
  {
   "cell_type": "code",
   "execution_count": 14,
   "id": "89a73b45-914f-4eaa-9b02-89d774f900f4",
   "metadata": {},
   "outputs": [
    {
     "name": "stdout",
     "output_type": "stream",
     "text": [
      "\n",
      "\n",
      "Epoch 0: Train Loss = 0.6933467984199524, Valid Loss = 0.6932734847068787\n",
      "Epoch 100: Train Loss = 0.4409582316875458, Valid Loss = 0.4537566602230072\n",
      "Epoch 200: Train Loss = 0.38796520233154297, Valid Loss = 0.404673308134079\n",
      "Epoch 300: Train Loss = 0.3765856921672821, Valid Loss = 0.3976638615131378\n",
      "Epoch 400: Train Loss = 0.36877310276031494, Valid Loss = 0.3966579735279083\n",
      "Epoch 500: Train Loss = 0.3662151098251343, Valid Loss = 0.3910609483718872\n",
      "Epoch 600: Train Loss = 0.3627242147922516, Valid Loss = 0.39267441630363464\n",
      "Epoch 700: Train Loss = 0.3629380464553833, Valid Loss = 0.3932547867298126\n",
      "Epoch 800: Train Loss = 0.3588888943195343, Valid Loss = 0.39107733964920044\n",
      "Epoch 900: Train Loss = 0.3562929630279541, Valid Loss = 0.38996458053588867\n"
     ]
    }
   ],
   "source": [
    "out = train_model_classification(model, loss, G, max_epoch, learning_rate, targetNode_mask, train_idx, valid_idx, optimizer)"
   ]
  },
  {
   "cell_type": "code",
   "execution_count": 15,
   "id": "f46a7a60-ee79-47f0-88a7-79fad7bd7bdf",
   "metadata": {},
   "outputs": [
    {
     "name": "stdout",
     "output_type": "stream",
     "text": [
      "Number of Parameters: 8014790\n",
      "\n"
     ]
    }
   ],
   "source": [
    "model_parameters = filter(lambda p: p.requires_grad, model.parameters())\n",
    "print(f'Number of Parameters: {sum([np.prod(p.size()) for p in model_parameters])}\\n')"
   ]
  },
  {
   "cell_type": "code",
   "execution_count": 16,
   "id": "4e217d88-5fa8-478c-a319-1324e5740fc6",
   "metadata": {},
   "outputs": [],
   "source": [
    "out = eval_model_classification(model, G, targetNode_mask, train_idx, valid_idx, test_idx)"
   ]
  },
  {
   "cell_type": "code",
   "execution_count": 17,
   "id": "c2e038e8-e8ba-45fb-9f9d-aa55af0d6544",
   "metadata": {},
   "outputs": [
    {
     "data": {
      "text/plain": [
       "{'train_AUROC': 0.9205742282734256,\n",
       " 'train_acc': 0.8606382068611516,\n",
       " 'test_AUROC': 0.9145379095836413,\n",
       " 'test_acc': 0.8427145708582834}"
      ]
     },
     "execution_count": 17,
     "metadata": {},
     "output_type": "execute_result"
    }
   ],
   "source": [
    "out"
   ]
  },
  {
   "cell_type": "code",
   "execution_count": null,
   "id": "5278c5fb-da8a-4ce3-9c16-2e239aa5d88d",
   "metadata": {},
   "outputs": [],
   "source": []
  }
 ],
 "metadata": {
  "kernelspec": {
   "display_name": "Python 3 (ipykernel)",
   "language": "python",
   "name": "python3"
  },
  "language_info": {
   "codemirror_mode": {
    "name": "ipython",
    "version": 3
   },
   "file_extension": ".py",
   "mimetype": "text/x-python",
   "name": "python",
   "nbconvert_exporter": "python",
   "pygments_lexer": "ipython3",
   "version": "3.11.9"
  }
 },
 "nbformat": 4,
 "nbformat_minor": 5
}
