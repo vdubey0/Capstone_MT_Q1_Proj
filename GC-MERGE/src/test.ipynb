{
 "cells": [
  {
   "cell_type": "code",
   "execution_count": 1,
   "id": "58538f3c-8c6a-481c-beab-89c3189b1cf5",
   "metadata": {},
   "outputs": [],
   "source": [
    "import os\n",
    "\n",
    "import numpy as np\n",
    "from scipy.sparse import load_npz\n",
    "from scipy.stats import pearsonr\n",
    "from sklearn.metrics import roc_auc_score, precision_recall_curve, auc\n",
    "import pandas as pd\n",
    "\n",
    "import torch\n",
    "import torch_geometric\n",
    "import torch.nn.functional as F\n",
    "import torch.nn as nn\n",
    "import torch.optim as optim\n",
    "from torch_geometric.loader import DataLoader\n",
    "from torch_geometric.nn.conv import GATConv\n",
    "from torch import sparse\n",
    "\n",
    "import matplotlib.pyplot as plt\n",
    "from torch_sparse import SparseTensor, matmul"
   ]
  },
  {
   "cell_type": "code",
   "execution_count": 2,
   "id": "f0688f71-0612-4678-8e8f-71c3d8881aca",
   "metadata": {},
   "outputs": [],
   "source": [
    "adj_t = SparseTensor(\n",
    "    row=torch.tensor([0, 0, 1, 0, 2, 3, 2]),  # Source nodes\n",
    "    col=torch.tensor([1, 2, 2, 3, 1, 2, 0]),  # Target nodes\n",
    "    value=torch.tensor([0.5, 0.8, 0.6, 0.1, 0.2, 0.9, 0.3]),  # Edge weights\n",
    "    sparse_sizes=(4, 4)  # 3 nodes in total\n",
    ")"
   ]
  },
  {
   "cell_type": "code",
   "execution_count": 3,
   "id": "9d09bf63-7fd6-47d8-9e82-8e3e257d44cc",
   "metadata": {},
   "outputs": [
    {
     "data": {
      "text/plain": [
       "SparseTensor(row=tensor([0, 0, 0, 1, 2, 2, 3]),\n",
       "             col=tensor([1, 2, 3, 2, 0, 1, 2]),\n",
       "             val=tensor([0.5000, 0.8000, 0.1000, 0.6000, 0.3000, 0.2000, 0.9000]),\n",
       "             size=(4, 4), nnz=7, density=43.75%)"
      ]
     },
     "execution_count": 3,
     "metadata": {},
     "output_type": "execute_result"
    }
   ],
   "source": [
    "adj_t"
   ]
  },
  {
   "cell_type": "code",
   "execution_count": 4,
   "id": "788eb29a-05ff-483f-a27f-ca5efbd0ef27",
   "metadata": {},
   "outputs": [
    {
     "data": {
      "text/plain": [
       "tensor([[0.0000, 0.5000, 0.8000, 0.1000],\n",
       "        [0.0000, 0.0000, 0.6000, 0.0000],\n",
       "        [0.3000, 0.2000, 0.0000, 0.0000],\n",
       "        [0.0000, 0.0000, 0.9000, 0.0000]])"
      ]
     },
     "execution_count": 4,
     "metadata": {},
     "output_type": "execute_result"
    }
   ],
   "source": [
    "adj_t.to_dense()"
   ]
  },
  {
   "cell_type": "code",
   "execution_count": 6,
   "id": "2f76edf7-8589-48c3-a857-b65734b9b491",
   "metadata": {},
   "outputs": [
    {
     "data": {
      "text/plain": [
       "tensor([[0., 1., 1., 1.],\n",
       "        [0., 0., 1., 0.],\n",
       "        [1., 1., 0., 0.],\n",
       "        [0., 0., 1., 0.]])"
      ]
     },
     "execution_count": 6,
     "metadata": {},
     "output_type": "execute_result"
    }
   ],
   "source": [
    "adj_t.set_value(None).to_dense()"
   ]
  },
  {
   "cell_type": "code",
   "execution_count": 8,
   "id": "91b34574-f3a7-4f99-b634-d854403ab567",
   "metadata": {},
   "outputs": [],
   "source": [
    "edge_weights = torch.nn.Parameter(torch.rand(adj_t.nnz(), dtype=torch.float32))\n",
    "#edge_weights = torch.tensor([1, 2, 3, 4], dtype=torch.float32)"
   ]
  },
  {
   "cell_type": "code",
   "execution_count": 9,
   "id": "bc1a7d18-852a-49c5-8f52-fe03858d3ad5",
   "metadata": {},
   "outputs": [
    {
     "name": "stderr",
     "output_type": "stream",
     "text": [
      "/home/vdubey/.local/lib/python3.11/site-packages/torch_sparse/storage.py:15: UserWarning: `layout` argument unset, using default layout \"coo\". This may lead to unexpected behaviour.\n",
      "  warnings.warn('`layout` argument unset, using default layout '\n"
     ]
    }
   ],
   "source": [
    "adj_t_updated = adj_t.set_value(edge_weights)"
   ]
  },
  {
   "cell_type": "code",
   "execution_count": 10,
   "id": "dceae9d5-0293-45b8-a763-c1d144b3e33f",
   "metadata": {},
   "outputs": [
    {
     "data": {
      "text/plain": [
       "tensor([[0.0000, 0.7747, 0.7578, 0.1625],\n",
       "        [0.0000, 0.0000, 0.4650, 0.0000],\n",
       "        [0.5714, 0.5715, 0.0000, 0.0000],\n",
       "        [0.0000, 0.0000, 0.3008, 0.0000]], grad_fn=<IndexPutBackward0>)"
      ]
     },
     "execution_count": 10,
     "metadata": {},
     "output_type": "execute_result"
    }
   ],
   "source": [
    "adj_t_updated.to_dense()"
   ]
  },
  {
   "cell_type": "code",
   "execution_count": 8,
   "id": "b6ad10c7-ca7f-4727-a98a-87602b1cb4df",
   "metadata": {},
   "outputs": [
    {
     "data": {
      "text/plain": [
       "tensor([[0, 0],\n",
       "        [0, 0],\n",
       "        [0, 0],\n",
       "        [0, 0]])"
      ]
     },
     "execution_count": 8,
     "metadata": {},
     "output_type": "execute_result"
    }
   ],
   "source": [
    "x = matmul(adj_t_updated, torch.tensor([[2, 3, 4, 5], [2, 3, 4, 5]]).view(4, 2))\n",
    "x"
   ]
  },
  {
   "cell_type": "code",
   "execution_count": 9,
   "id": "8e8aae86-458b-43c4-9ea5-4f0b061140ce",
   "metadata": {},
   "outputs": [
    {
     "data": {
      "text/plain": [
       "tensor([[0., 0.],\n",
       "        [0., 0.],\n",
       "        [0., 0.],\n",
       "        [0., 0.]])"
      ]
     },
     "execution_count": 9,
     "metadata": {},
     "output_type": "execute_result"
    }
   ],
   "source": [
    "torch.tanh(x)"
   ]
  },
  {
   "cell_type": "code",
   "execution_count": 10,
   "id": "94bf3d08-658f-4097-bf64-0f5804c3162f",
   "metadata": {},
   "outputs": [],
   "source": [
    "edge_weights = F.dropout(edge_weights, p=0.9)"
   ]
  },
  {
   "cell_type": "code",
   "execution_count": 11,
   "id": "d7c7865b-42c3-465f-b621-912945e650bb",
   "metadata": {},
   "outputs": [
    {
     "data": {
      "text/plain": [
       "tensor([0.0000, 0.0000, 0.0000, 0.0000, 0.0000, 9.2030, 0.0000],\n",
       "       grad_fn=<MulBackward0>)"
      ]
     },
     "execution_count": 11,
     "metadata": {},
     "output_type": "execute_result"
    }
   ],
   "source": [
    "edge_weights"
   ]
  },
  {
   "cell_type": "code",
   "execution_count": 12,
   "id": "6d71e547-3b69-4b82-9c81-df8016eee9cc",
   "metadata": {},
   "outputs": [
    {
     "data": {
      "text/plain": [
       "tensor([[0, 0],\n",
       "        [0, 0],\n",
       "        [0, 0],\n",
       "        [0, 0]])"
      ]
     },
     "execution_count": 12,
     "metadata": {},
     "output_type": "execute_result"
    }
   ],
   "source": [
    "x = matmul(adj_t, torch.tensor([[2, 3, 4, 5], [2, 3, 4, 5]]).view(4, 2))\n",
    "x"
   ]
  },
  {
   "cell_type": "code",
   "execution_count": 13,
   "id": "5bb79a22-f049-44b4-90f7-b304cacf4d20",
   "metadata": {},
   "outputs": [
    {
     "data": {
      "text/plain": [
       "SparseTensor(row=tensor([0, 0, 0, 1, 2, 2, 3]),\n",
       "             col=tensor([1, 2, 3, 2, 0, 1, 2]),\n",
       "             val=tensor([0.5000, 0.8000, 0.1000, 0.6000, 0.3000, 0.2000, 0.9000]),\n",
       "             size=(4, 4), nnz=7, density=43.75%)"
      ]
     },
     "execution_count": 13,
     "metadata": {},
     "output_type": "execute_result"
    }
   ],
   "source": [
    "adj_t"
   ]
  },
  {
   "cell_type": "code",
   "execution_count": 14,
   "id": "8afbd65c-06e4-4bdd-aee7-5693b93a701e",
   "metadata": {},
   "outputs": [
    {
     "data": {
      "text/plain": [
       "SparseTensor(row=tensor([0, 1, 1, 2, 2]),\n",
       "             col=tensor([2, 0, 2, 0, 1]),\n",
       "             size=(3, 3), nnz=5, density=55.56%)"
      ]
     },
     "execution_count": 14,
     "metadata": {},
     "output_type": "execute_result"
    }
   ],
   "source": [
    "adj_t = SparseTensor(\n",
    "    row=torch.tensor([0, 1, 1, 2, 2]),  # Source nodes\n",
    "    col=torch.tensor([2, 0, 2, 0, 1]),  # Target nodes\n",
    "    sparse_sizes=(3, 3)  # 3 nodes in total\n",
    ")\n",
    "\n",
    "adj_t"
   ]
  },
  {
   "cell_type": "code",
   "execution_count": 18,
   "id": "95d0e0e0-d256-424b-a03e-5b00be42970e",
   "metadata": {},
   "outputs": [
    {
     "data": {
      "text/plain": [
       "tensor([[-0.6833, -1.1793,  1.2907],\n",
       "        [-0.8630,  0.6198,  1.3872],\n",
       "        [-0.8458, -0.3886,  0.6923]])"
      ]
     },
     "execution_count": 18,
     "metadata": {},
     "output_type": "execute_result"
    }
   ],
   "source": [
    "x = torch.randn(9).view(3, 3)\n",
    "x"
   ]
  },
  {
   "cell_type": "code",
   "execution_count": 21,
   "id": "585d106a-3f3c-404a-8a2a-9c35a3767737",
   "metadata": {},
   "outputs": [
    {
     "data": {
      "text/plain": [
       "tensor([[-1.2857],\n",
       "        [-2.2096],\n",
       "        [-2.4411]], grad_fn=<AddmmBackward0>)"
      ]
     },
     "execution_count": 21,
     "metadata": {},
     "output_type": "execute_result"
    }
   ],
   "source": [
    "m = nn.Linear(3, 1)\n",
    "m(matmul(adj_t, x))"
   ]
  },
  {
   "cell_type": "code",
   "execution_count": null,
   "id": "0bd46d5f-3e36-4b6a-b394-6e54fe804b05",
   "metadata": {},
   "outputs": [],
   "source": []
  },
  {
   "cell_type": "code",
   "execution_count": null,
   "id": "bc0a6690-12bb-46b5-a866-6e8d72ff48c3",
   "metadata": {},
   "outputs": [],
   "source": []
  }
 ],
 "metadata": {
  "kernelspec": {
   "display_name": "Python 3 (ipykernel)",
   "language": "python",
   "name": "python3"
  },
  "language_info": {
   "codemirror_mode": {
    "name": "ipython",
    "version": 3
   },
   "file_extension": ".py",
   "mimetype": "text/x-python",
   "name": "python",
   "nbconvert_exporter": "python",
   "pygments_lexer": "ipython3",
   "version": "3.11.9"
  }
 },
 "nbformat": 4,
 "nbformat_minor": 5
}
