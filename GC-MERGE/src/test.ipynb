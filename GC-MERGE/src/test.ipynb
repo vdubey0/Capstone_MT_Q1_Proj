{
 "cells": [
  {
   "cell_type": "code",
   "execution_count": 53,
   "id": "58538f3c-8c6a-481c-beab-89c3189b1cf5",
   "metadata": {},
   "outputs": [],
   "source": [
    "import os\n",
    "\n",
    "import numpy as np\n",
    "from scipy.sparse import load_npz\n",
    "from scipy.stats import pearsonr\n",
    "from sklearn.metrics import roc_auc_score, precision_recall_curve, auc\n",
    "import pandas as pd\n",
    "\n",
    "import torch\n",
    "import torch_geometric\n",
    "import torch.nn.functional as F\n",
    "import torch.nn as nn\n",
    "import torch.optim as optim\n",
    "from torch_geometric.loader import DataLoader\n",
    "from torch_geometric.nn.conv import GATConv\n",
    "from torch import sparse\n",
    "\n",
    "import matplotlib.pyplot as plt\n",
    "from torch_sparse import SparseTensor, matmul"
   ]
  },
  {
   "cell_type": "code",
   "execution_count": 129,
   "id": "f0688f71-0612-4678-8e8f-71c3d8881aca",
   "metadata": {},
   "outputs": [],
   "source": [
    "adj_t = SparseTensor(\n",
    "    row=torch.tensor([0, 0, 1, 0, 2, 3, 2]),  # Source nodes\n",
    "    col=torch.tensor([1, 2, 2, 3, 1, 2, 0]),  # Target nodes\n",
    "    value=torch.tensor([0.5, 0.8, 0.6, 0.1, 0.2, 0.9, 0.3]),  # Edge weights\n",
    "    sparse_sizes=(4, 4)  # 3 nodes in total\n",
    ")"
   ]
  },
  {
   "cell_type": "code",
   "execution_count": 130,
   "id": "788eb29a-05ff-483f-a27f-ca5efbd0ef27",
   "metadata": {},
   "outputs": [
    {
     "data": {
      "text/plain": [
       "tensor([[0.0000, 0.5000, 0.8000, 0.1000],\n",
       "        [0.0000, 0.0000, 0.6000, 0.0000],\n",
       "        [0.3000, 0.2000, 0.0000, 0.0000],\n",
       "        [0.0000, 0.0000, 0.9000, 0.0000]])"
      ]
     },
     "execution_count": 130,
     "metadata": {},
     "output_type": "execute_result"
    }
   ],
   "source": [
    "adj_t.to_dense()"
   ]
  },
  {
   "cell_type": "code",
   "execution_count": 131,
   "id": "91b34574-f3a7-4f99-b634-d854403ab567",
   "metadata": {},
   "outputs": [],
   "source": [
    "edge_weights = torch.nn.Parameter(torch.rand(adj_t.nnz(), dtype=torch.float32))\n",
    "#edge_weights = torch.tensor([1, 2, 3, 4], dtype=torch.float32)"
   ]
  },
  {
   "cell_type": "code",
   "execution_count": 132,
   "id": "6094a2a1-e658-4a55-82aa-fe66f1c785b7",
   "metadata": {},
   "outputs": [
    {
     "data": {
      "text/plain": [
       "tensor([1.0749, 0.9080, 1.2034, 0.4641], grad_fn=<AddBackward0>)"
      ]
     },
     "execution_count": 132,
     "metadata": {},
     "output_type": "execute_result"
    }
   ],
   "source": [
    "coo = adj_t.coo()\n",
    "row_indices = coo[0]\n",
    "col_indices = coo[1]\n",
    "\n",
    "row_sum = torch.zeros(4, dtype=torch.float32)\n",
    "row_sum = row_sum.scatter_add(0, row_indices, edge_weights)\n",
    "row_sum = row_sum + 1e-8\n",
    "row_sum"
   ]
  },
  {
   "cell_type": "code",
   "execution_count": 133,
   "id": "72b512a2-009d-4fb5-9922-b4a9005b5aac",
   "metadata": {},
   "outputs": [],
   "source": [
    "normalized_weights = edge_weights / row_sum[row_indices]"
   ]
  },
  {
   "cell_type": "code",
   "execution_count": 134,
   "id": "bc1a7d18-852a-49c5-8f52-fe03858d3ad5",
   "metadata": {},
   "outputs": [],
   "source": [
    "adj_t_updated = adj_t.set_value(normalized_weights)"
   ]
  },
  {
   "cell_type": "code",
   "execution_count": 135,
   "id": "dceae9d5-0293-45b8-a763-c1d144b3e33f",
   "metadata": {},
   "outputs": [
    {
     "data": {
      "text/plain": [
       "tensor([[0.0000, 0.1737, 0.5609, 0.2655],\n",
       "        [0.0000, 0.0000, 1.0000, 0.0000],\n",
       "        [0.4867, 0.5133, 0.0000, 0.0000],\n",
       "        [0.0000, 0.0000, 1.0000, 0.0000]], grad_fn=<IndexPutBackward0>)"
      ]
     },
     "execution_count": 135,
     "metadata": {},
     "output_type": "execute_result"
    }
   ],
   "source": [
    "adj_t_updated.to_dense()"
   ]
  },
  {
   "cell_type": "code",
   "execution_count": null,
   "id": "b6ad10c7-ca7f-4727-a98a-87602b1cb4df",
   "metadata": {},
   "outputs": [],
   "source": []
  }
 ],
 "metadata": {
  "kernelspec": {
   "display_name": "Python 3 (ipykernel)",
   "language": "python",
   "name": "python3"
  },
  "language_info": {
   "codemirror_mode": {
    "name": "ipython",
    "version": 3
   },
   "file_extension": ".py",
   "mimetype": "text/x-python",
   "name": "python",
   "nbconvert_exporter": "python",
   "pygments_lexer": "ipython3",
   "version": "3.11.9"
  }
 },
 "nbformat": 4,
 "nbformat_minor": 5
}
