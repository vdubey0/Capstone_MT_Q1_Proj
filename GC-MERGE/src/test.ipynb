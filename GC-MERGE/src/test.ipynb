{
 "cells": [
  {
   "cell_type": "code",
   "execution_count": 1,
   "id": "9d3ce880",
   "metadata": {},
   "outputs": [],
   "source": [
    "import numpy as np"
   ]
  },
  {
   "cell_type": "code",
   "execution_count": 4,
   "id": "fa99515e",
   "metadata": {},
   "outputs": [],
   "source": [
    "arr = np.load('data/E116/saved_runs/regression/model_2021-06-26-at-06-10-03_train_metrics.npy', allow_pickle=True)"
   ]
  },
  {
   "cell_type": "code",
   "execution_count": 9,
   "id": "13c0cef7",
   "metadata": {},
   "outputs": [
    {
     "name": "stdout",
     "output_type": "stream",
     "text": [
      "(11689,)\n",
      "(11689,)\n",
      "(11689,)\n",
      "(2000,)\n",
      "(2000, 1)\n"
     ]
    }
   ],
   "source": [
    "for a in arr:\n",
    "    print(a.shape)"
   ]
  },
  {
   "cell_type": "code",
   "execution_count": 10,
   "id": "7e024aa8",
   "metadata": {},
   "outputs": [
    {
     "data": {
      "text/plain": [
       "array([array([ 60577,  22060, 223671, ...,  79211,  81896,  63504]),\n",
       "       array([1.1804807 , 0.08483355, 0.07370858, ..., 0.09427215, 0.06354579,\n",
       "              0.07009982], dtype=float32)                                     ,\n",
       "       array([1.0009111 , 0.        , 0.        , ..., 0.00216606, 0.        ,\n",
       "              0.        ], dtype=float32)                                     ,\n",
       "       array([-0.02127084, -0.0063161 ,  0.01739647, ...,  0.82042446,\n",
       "               0.82097269,  0.82149857])                              ,\n",
       "       array([[0.71825153],\n",
       "              [0.71065712],\n",
       "              [0.70308411],\n",
       "              ...,\n",
       "              [0.13559677],\n",
       "              [0.1352322 ],\n",
       "              [0.13487883]])], dtype=object)"
      ]
     },
     "execution_count": 10,
     "metadata": {},
     "output_type": "execute_result"
    }
   ],
   "source": [
    "arr"
   ]
  },
  {
   "cell_type": "code",
   "execution_count": null,
   "id": "24ef1efa",
   "metadata": {},
   "outputs": [],
   "source": []
  }
 ],
 "metadata": {
  "kernelspec": {
   "display_name": "Python 3 (ipykernel)",
   "language": "python",
   "name": "python3"
  },
  "language_info": {
   "codemirror_mode": {
    "name": "ipython",
    "version": 3
   },
   "file_extension": ".py",
   "mimetype": "text/x-python",
   "name": "python",
   "nbconvert_exporter": "python",
   "pygments_lexer": "ipython3",
   "version": "3.9.5"
  }
 },
 "nbformat": 4,
 "nbformat_minor": 5
}
